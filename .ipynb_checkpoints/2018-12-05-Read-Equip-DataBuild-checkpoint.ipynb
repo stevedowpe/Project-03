{
 "cells": [
  {
   "cell_type": "code",
   "execution_count": 1,
   "metadata": {},
   "outputs": [],
   "source": [
    "import pandas as pd"
   ]
  },
  {
   "cell_type": "code",
   "execution_count": 2,
   "metadata": {},
   "outputs": [],
   "source": [
    "# https://stackoverflow.com/questions/44549110/python-loop-through-excel-sheets-place-into-one-df\n",
    "sheets_dict = pd.read_excel('resource/SDCCD-Prop-S-N-Equipment-DataBuild.xlsx', sheet_name=None)   \n",
    "full_table = pd.DataFrame()\n",
    "for name, sheet in sheets_dict.items():\n",
    "    sheet['sheet'] = name\n",
    "    sheet = sheet.rename(columns=lambda x: x.split('\\n')[-1])\n",
    "    full_table = full_table.append(sheet)\n",
    "\n",
    "full_table.reset_index(inplace=True, drop=True)\n",
    "\n",
    "# print (full_table.head)\n"
   ]
  },
  {
   "cell_type": "code",
   "execution_count": 3,
   "metadata": {},
   "outputs": [],
   "source": [
    "#full_table.to_csv(\"output/SDCCD-Program-Equipment-Data.csv\", index=False, header=True)"
   ]
  },
  {
   "cell_type": "code",
   "execution_count": 4,
   "metadata": {},
   "outputs": [],
   "source": [
    "table_11220 = full_table.loc[full_table[\"Project\"]==11220]\n",
    "table_11220.to_csv(\"output/SDCCD-Equipment-DataBuild-11220.csv\", index=False, header=True)\n",
    "\n",
    "table_11220_csi22 = table_11220.loc[table_11220[\"CSIDiv\"]==22]\n",
    "table_11220_csi22.to_csv(\"output/SDCCD-Equipment-DataBuild-11220-CSI22.csv\", index=False, header=True)\n",
    "\n",
    "table_11220_csi23 = table_11220.loc[table_11220[\"CSIDiv\"]==23]\n",
    "table_11220_csi23.to_csv(\"output/SDCCD-Equipment-DataBuild-11220-CSI23.csv\", index=False, header=True)\n",
    "\n",
    "table_11220_csi26 = table_11220.loc[table_11220[\"CSIDiv\"]==26]\n",
    "table_11220_csi26.to_csv(\"output/SDCCD-Equipment-DataBuild-11220-CSI26.csv\", index=False, header=True)"
   ]
  }
 ],
 "metadata": {
  "kernelspec": {
   "display_name": "Python 3",
   "language": "python",
   "name": "python3"
  },
  "language_info": {
   "codemirror_mode": {
    "name": "ipython",
    "version": 3
   },
   "file_extension": ".py",
   "mimetype": "text/x-python",
   "name": "python",
   "nbconvert_exporter": "python",
   "pygments_lexer": "ipython3",
   "version": "3.6.4"
  }
 },
 "nbformat": 4,
 "nbformat_minor": 2
}
