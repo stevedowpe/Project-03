{
 "cells": [
  {
   "cell_type": "code",
   "execution_count": 1,
   "metadata": {},
   "outputs": [],
   "source": [
    "import pandas as pd"
   ]
  },
  {
   "cell_type": "code",
   "execution_count": 2,
   "metadata": {},
   "outputs": [],
   "source": [
    "# https://stackoverflow.com/questions/44549110/python-loop-through-excel-sheets-place-into-one-df\n",
    "sheets_dict = pd.read_excel('resource/SDCCD-Prop-S-N-Equipment-Closeout.xlsx', sheet_name=None)   \n",
    "full_table = pd.DataFrame()\n",
    "for name, sheet in sheets_dict.items():\n",
    "    sheet['sheet'] = name\n",
    "    sheet = sheet.rename(columns=lambda x: x.split('\\n')[-1])\n",
    "    full_table = full_table.append(sheet)\n",
    "\n",
    "full_table.reset_index(inplace=True, drop=True)\n",
    "\n",
    "# print (full_table)"
   ]
  },
  {
   "cell_type": "code",
   "execution_count": 3,
   "metadata": {},
   "outputs": [],
   "source": [
    "full_table.to_csv(\"output/SDCCD-Program-Equipment-Data.csv\", index=False, header=True)"
   ]
  },
  {
   "cell_type": "code",
   "execution_count": 4,
   "metadata": {},
   "outputs": [],
   "source": [
    "table_csi_07 = full_table.loc[full_table[\"CSI\"]==\"07-Thermal/Moisture-Protect\"]\n",
    "# table_csi_07.head(2)\n",
    "table_csi_07.to_csv(\"output/SDCCD-Equipment-Data-CSI-07.csv\", index=False, header=True)"
   ]
  },
  {
   "cell_type": "code",
   "execution_count": 5,
   "metadata": {},
   "outputs": [],
   "source": [
    "table_csi_11 = full_table.loc[full_table[\"CSI\"]==\"11-Equipment\"]\n",
    "# table_csi_11.head(2)\n",
    "table_csi_11.to_csv(\"output/SDCCD-Equipment-Data-CSI-11.csv\", index=False, header=True)"
   ]
  },
  {
   "cell_type": "code",
   "execution_count": 6,
   "metadata": {},
   "outputs": [],
   "source": [
    "table_csi_14 = full_table.loc[full_table[\"CSI\"]==\"14-Conveying-Equip\"]\n",
    "# table_csi_14.head(2)\n",
    "table_csi_14.to_csv(\"output/SDCCD-Equipment-Data-CSI-14.csv\", index=False, header=True)"
   ]
  },
  {
   "cell_type": "code",
   "execution_count": 7,
   "metadata": {},
   "outputs": [],
   "source": [
    "table_csi_22 = full_table.loc[full_table[\"CSI\"]==\"22-Plumbing\"]\n",
    "# table_csi_22.head(2)\n",
    "table_csi_22.to_csv(\"output/SDCCD-Equipment-Data-CSI-22.csv\", index=False, header=True)"
   ]
  },
  {
   "cell_type": "code",
   "execution_count": 8,
   "metadata": {},
   "outputs": [],
   "source": [
    "table_csi_23 = full_table.loc[full_table[\"CSI\"]==\"23-HVAC\"]\n",
    "# table_csi_23.head(2)\n",
    "table_csi_23.to_csv(\"output/SDCCD-Equipment-Data-CSI-23.csv\", index=False, header=True)"
   ]
  },
  {
   "cell_type": "code",
   "execution_count": 9,
   "metadata": {},
   "outputs": [],
   "source": [
    "table_csi_26 = full_table.loc[full_table[\"CSI\"]==\"26-Electrical\"]\n",
    "# table_csi_26.head(2)\n",
    "table_csi_26.to_csv(\"output/SDCCD-Equipment-Data-CSI-26.csv\", index=False, header=True)"
   ]
  },
  {
   "cell_type": "code",
   "execution_count": 10,
   "metadata": {},
   "outputs": [],
   "source": [
    "table_csi_28 = full_table.loc[full_table[\"CSI\"]==\"28-Elec-Safety-Security\"]\n",
    "# table_csi_28.head(2)\n",
    "table_csi_28.to_csv(\"output/SDCCD-Equipment-Data-CSI-28.csv\", index=False, header=True)"
   ]
  },
  {
   "cell_type": "code",
   "execution_count": 11,
   "metadata": {},
   "outputs": [],
   "source": [
    "table_csi_45 = full_table.loc[full_table[\"CSI\"]==\"45-Industry\"]\n",
    "# table_csi_45.head(2)\n",
    "table_csi_45.to_csv(\"output/SDCCD-Equipment-Data-CSI-45.csv\", index=False, header=True)"
   ]
  }
 ],
 "metadata": {
  "kernelspec": {
   "display_name": "Python 3",
   "language": "python",
   "name": "python3"
  },
  "language_info": {
   "codemirror_mode": {
    "name": "ipython",
    "version": 3
   },
   "file_extension": ".py",
   "mimetype": "text/x-python",
   "name": "python",
   "nbconvert_exporter": "python",
   "pygments_lexer": "ipython3",
   "version": "3.6.4"
  }
 },
 "nbformat": 4,
 "nbformat_minor": 2
}
